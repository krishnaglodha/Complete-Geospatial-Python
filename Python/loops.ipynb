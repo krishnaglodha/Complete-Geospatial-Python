{
 "cells": [
  {
   "cell_type": "markdown",
   "metadata": {},
   "source": [
    "# Loops\n",
    "Using loops , user can execute same functions on multiple elements"
   ]
  },
  {
   "cell_type": "code",
   "execution_count": 1,
   "metadata": {},
   "outputs": [
    {
     "name": "stdout",
     "output_type": "stream",
     "text": [
      "Ticket is accepted of number 0\n",
      "Ticket is accepted of number 1\n",
      "Ticket is accepted of number 2\n",
      "Ticket is accepted of number 3\n",
      "Ticket is accepted of number 4\n"
     ]
    }
   ],
   "source": [
    "# While loop\n",
    "\n",
    "ticket_no = 0\n",
    "while ticket_no < 5 :\n",
    "    print('Ticket is accepted of number ' + str(ticket_no))\n",
    "    ticket_no += 1"
   ]
  },
  {
   "cell_type": "code",
   "execution_count": 2,
   "metadata": {},
   "outputs": [
    {
     "name": "stdout",
     "output_type": "stream",
     "text": [
      "voilet\n",
      "indigo\n",
      "blue\n",
      "green\n",
      "yellow\n",
      "orange\n",
      "red\n"
     ]
    }
   ],
   "source": [
    "# for loop\n",
    "colors = ['voilet','indigo','blue','green','yellow','orange','red']\n",
    "\n",
    "for color in colors:\n",
    "    print(color)"
   ]
  },
  {
   "cell_type": "code",
   "execution_count": 5,
   "metadata": {},
   "outputs": [
    {
     "name": "stdout",
     "output_type": "stream",
     "text": [
      "this is not my number 0\n",
      "this is not my number 1\n",
      "this is not my number 2\n",
      "found my number 3\n"
     ]
    }
   ],
   "source": [
    "# Stopping loop if certain condition is met\n",
    "\n",
    "my_num = 3\n",
    "i =0\n",
    "while i < 10:\n",
    "    if my_num == i:\n",
    "        print('found my number',i)\n",
    "        break\n",
    "    else :\n",
    "        print('this is not my number',i)\n",
    "    i += 1    "
   ]
  },
  {
   "cell_type": "code",
   "execution_count": 6,
   "metadata": {},
   "outputs": [
    {
     "name": "stdout",
     "output_type": "stream",
     "text": [
      "0\n",
      "1\n",
      "2\n",
      "3\n",
      "4\n",
      "5\n",
      "6\n",
      "7\n",
      "8\n",
      "9\n"
     ]
    }
   ],
   "source": [
    "#looping through range \n",
    "\n",
    "for i in range(0,10):\n",
    "    print(i)"
   ]
  },
  {
   "cell_type": "code",
   "execution_count": 9,
   "metadata": {},
   "outputs": [
    {
     "name": "stdout",
     "output_type": "stream",
     "text": [
      "Current even number is 0\n",
      "outside if\n",
      "outside if\n",
      "Current even number is 2\n",
      "outside if\n",
      "outside if\n",
      "Current even number is 4\n",
      "outside if\n",
      "outside if\n",
      "Current even number is 6\n",
      "outside if\n",
      "outside if\n",
      "Current even number is 8\n",
      "outside if\n",
      "outside if\n",
      "Current even number is 10\n",
      "outside if\n"
     ]
    }
   ],
   "source": [
    "# Using pass to skip the condition\n",
    "\n",
    "for number in range(0,11):\n",
    "    if number%2 == 0:\n",
    "        print('Current even number is', number)\n",
    "    else : \n",
    "        pass\n",
    "    print('outside if')"
   ]
  },
  {
   "cell_type": "code",
   "execution_count": 10,
   "metadata": {},
   "outputs": [
    {
     "name": "stdout",
     "output_type": "stream",
     "text": [
      "Current even number is 0\n",
      "outside if\n",
      "Current even number is 2\n",
      "outside if\n",
      "Current even number is 4\n",
      "outside if\n",
      "Current even number is 6\n",
      "outside if\n",
      "Current even number is 8\n",
      "outside if\n",
      "Current even number is 10\n",
      "outside if\n"
     ]
    }
   ],
   "source": [
    "# Using continue to skip the remaining code execution\n",
    "\n",
    "for number in range(0,11):\n",
    "    if number%2 == 0:\n",
    "        print('Current even number is', number)\n",
    "    else : \n",
    "        continue\n",
    "    print('outside if')"
   ]
  },
  {
   "cell_type": "markdown",
   "metadata": {},
   "source": [
    "### Problem statement\n",
    "1. Person owns 5 cars of milage 13,14,10,9,20. he has 2 litre fuel available in each car and he wants to go 20KM, which all cars can he take\n",
    "2. Between the number 0 to 32, print if number is divisible by 2, 3, 5 or none\n",
    "3. for a persons dictionary, check if which cateogry they are in \n",
    "- Male and > 50 - Class C\n",
    "- Male and >35 and <50 - Class B\n",
    "- Make and < 35 - Class A\n",
    "- Female and > 40 - Class C\n",
    "- Male and >30 and <40 - Class B\n",
    "- Make and < 30 - Class A\n",
    "4.  Person owns 5 cars of milage 13,14,10,9,20. he has 2 litre fuel available in each car and he wants to go 20KM, find first car that he can take\n",
    "   "
   ]
  }
 ],
 "metadata": {
  "interpreter": {
   "hash": "d296d52e43b4f7ad8b723527f53ca0adab2a02b060782b02315a0763fae6fbcf"
  },
  "kernelspec": {
   "display_name": "Python 3.8.8 64-bit ('geopyenv': venv)",
   "language": "python",
   "name": "python3"
  },
  "language_info": {
   "codemirror_mode": {
    "name": "ipython",
    "version": 3
   },
   "file_extension": ".py",
   "mimetype": "text/x-python",
   "name": "python",
   "nbconvert_exporter": "python",
   "pygments_lexer": "ipython3",
   "version": "3.8.8"
  },
  "orig_nbformat": 4
 },
 "nbformat": 4,
 "nbformat_minor": 2
}
