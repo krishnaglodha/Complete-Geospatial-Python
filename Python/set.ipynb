{
 "cells": [
  {
   "cell_type": "markdown",
   "metadata": {},
   "source": [
    "## Set \n",
    "Set is a way to store data in as a list but it is unindexed,unordered, uneditable"
   ]
  },
  {
   "cell_type": "code",
   "execution_count": 54,
   "metadata": {},
   "outputs": [
    {
     "name": "stdout",
     "output_type": "stream",
     "text": [
      "{'banana', 'guava', 'watermelon', 'apple'}\n"
     ]
    }
   ],
   "source": [
    "# Sample set\n",
    "fruits = {'banana','apple','guava','watermelon','banana'}\n",
    "print(fruits) # result only has one banana and also order is changed"
   ]
  },
  {
   "cell_type": "code",
   "execution_count": 1,
   "metadata": {},
   "outputs": [
    {
     "name": "stdout",
     "output_type": "stream",
     "text": [
      "{'red', 'blue', 'green', 'orange'}\n",
      "{'red', 'green', 'orange', 'blue', 'pink'}\n",
      "{'red', 'green', 'blue', 'pink'}\n"
     ]
    }
   ],
   "source": [
    "\n",
    "colors = {'red','orange','blue','green'}\n",
    "print(colors)\n",
    "# add data to set\n",
    "colors.add('pink')\n",
    "print(colors)\n",
    "\n",
    "# remove data from set\n",
    "colors.remove('orange')\n",
    "print(colors)"
   ]
  },
  {
   "cell_type": "markdown",
   "metadata": {},
   "source": [
    "Checkout this link for more methods on set https://www.w3schools.com/python/python_sets_methods.asp"
   ]
  },
  {
   "cell_type": "markdown",
   "metadata": {},
   "source": []
  }
 ],
 "metadata": {
  "interpreter": {
   "hash": "d296d52e43b4f7ad8b723527f53ca0adab2a02b060782b02315a0763fae6fbcf"
  },
  "kernelspec": {
   "display_name": "Python 3.8.8 64-bit ('geopyenv': venv)",
   "language": "python",
   "name": "python3"
  },
  "language_info": {
   "codemirror_mode": {
    "name": "ipython",
    "version": 3
   },
   "file_extension": ".py",
   "mimetype": "text/x-python",
   "name": "python",
   "nbconvert_exporter": "python",
   "pygments_lexer": "ipython3",
   "version": "3.8.8"
  },
  "orig_nbformat": 4
 },
 "nbformat": 4,
 "nbformat_minor": 2
}
