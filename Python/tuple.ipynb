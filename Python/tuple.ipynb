{
 "cells": [
  {
   "cell_type": "markdown",
   "metadata": {},
   "source": [
    "## Tuple\n",
    "Tuple is a way to create ordered and unchangeable form of storing multiple data together in one variable "
   ]
  },
  {
   "cell_type": "code",
   "execution_count": 31,
   "metadata": {},
   "outputs": [
    {
     "name": "stdout",
     "output_type": "stream",
     "text": [
      "(1, 2, 4, 2, 19, 12)\n",
      "(['nobita', 'shizuka'], 'sunio', 'doraemon')\n",
      "('Drake',)\n",
      "('sachin', 'dravid', 'dhoni', 10, 14, 7)\n"
     ]
    }
   ],
   "source": [
    "# Create tuple\n",
    "normal_tuple = (1,2,4,2,19,12)\n",
    "print(normal_tuple)\n",
    "\n",
    "# Tuple can contain multi-data types\n",
    "mix_tuple = (['nobita','shizuka'], 'sunio','doraemon')\n",
    "print(mix_tuple)\n",
    "\n",
    "# Tuple with single value\n",
    "single_val = ('Drake',)\n",
    "print(single_val)\n",
    "\n",
    "# Using tuple constructor\n",
    "using_contructor = tuple(('sachin','dravid','dhoni', 10,14,7))\n",
    "print(using_contructor)"
   ]
  },
  {
   "cell_type": "code",
   "execution_count": 35,
   "metadata": {},
   "outputs": [
    {
     "name": "stdout",
     "output_type": "stream",
     "text": [
      "3\n"
     ]
    }
   ],
   "source": [
    "# Get count of specific item\n",
    "marks = tuple((85,12,14,85,47,15,85,14,1,5))\n",
    "count_85 = marks.count(85)\n",
    "print(count_85)"
   ]
  },
  {
   "cell_type": "code",
   "execution_count": 38,
   "metadata": {},
   "outputs": [
    {
     "name": "stdout",
     "output_type": "stream",
     "text": [
      "4\n"
     ]
    }
   ],
   "source": [
    "# Get index of  specific item\n",
    "marks = tuple((85,12,14,85,47,15,85,14,1,5))\n",
    "get_index_of_47_mark = marks.index(47)\n",
    "print(get_index_of_47_mark)"
   ]
  },
  {
   "cell_type": "markdown",
   "metadata": {},
   "source": [
    "### Problem statement\n",
    "1. Create a tuple of 5 person name\n",
    "2. How can we change data in tuple\n",
    "\n",
    "   "
   ]
  },
  {
   "cell_type": "markdown",
   "metadata": {},
   "source": []
  }
 ],
 "metadata": {
  "interpreter": {
   "hash": "d296d52e43b4f7ad8b723527f53ca0adab2a02b060782b02315a0763fae6fbcf"
  },
  "kernelspec": {
   "display_name": "Python 3.8.8 64-bit ('geopyenv': venv)",
   "language": "python",
   "name": "python3"
  },
  "language_info": {
   "codemirror_mode": {
    "name": "ipython",
    "version": 3
   },
   "file_extension": ".py",
   "mimetype": "text/x-python",
   "name": "python",
   "nbconvert_exporter": "python",
   "pygments_lexer": "ipython3",
   "version": "3.8.8"
  },
  "orig_nbformat": 4
 },
 "nbformat": 4,
 "nbformat_minor": 2
}
