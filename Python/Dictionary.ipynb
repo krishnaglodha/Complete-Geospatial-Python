{
 "cells": [
  {
   "cell_type": "markdown",
   "metadata": {},
   "source": [
    "## Dictionary \n",
    "Dictionary is a way to store data in pair of key and value in one variable which is unordered, alterable, indexed"
   ]
  },
  {
   "cell_type": "code",
   "execution_count": 39,
   "metadata": {},
   "outputs": [
    {
     "name": "stdout",
     "output_type": "stream",
     "text": [
      "{'Name': 'krishna Lodha'}\n",
      "{'name': 'krishna G. Lodha', 'YouTube subs': 13000, 'isTeaching': True, 'UdemyRating': 4.7, 'Languages': ['javascript', 'Python', 'HTML', 'CSS', 'React'], 'course': {'name': 'Geospatial Python', 'Duration': 50}}\n"
     ]
    }
   ],
   "source": [
    "# Basic Dict.\n",
    "about_me = {\n",
    "    'Name' : \"krishna Lodha\"\n",
    "}\n",
    "print(about_me)\n",
    "#dict with multiple data types\n",
    "complete_about_me = {\n",
    "    \"name\": \"krishna G. Lodha\",\n",
    "    \"YouTube subs\" : 13000,\n",
    "    \"isTeaching\": True,\n",
    "    \"UdemyRating\" : 4.7,\n",
    "    \"Languages\" : [\"javascript\", \"Python\", \"HTML\", \"CSS\", \"React\"],\n",
    "    \"course\": {\n",
    "        \"name\" : \"Geospatial Python\",\n",
    "        \"Duration\" : 50\n",
    "    }\n",
    "}\n",
    "print(complete_about_me)"
   ]
  },
  {
   "cell_type": "code",
   "execution_count": 53,
   "metadata": {},
   "outputs": [
    {
     "name": "stdout",
     "output_type": "stream",
     "text": [
      "krishna G. Lodha\n",
      "['javascript', 'Python', 'HTML', 'CSS', 'React']\n",
      "['name', 'YouTube subs', 'isTeaching', 'UdemyRating', 'Languages', 'course']\n",
      "['krishna G. Lodha', 13000, True, 4.7, ['javascript', 'Python', 'HTML', 'CSS', 'React'], {'name': 'Geospatial Python', 'Duration': 50}]\n",
      "[('name', 'krishna G. Lodha'), ('YouTube subs', 13000), ('isTeaching', True), ('UdemyRating', 4.7), ('Languages', ['javascript', 'Python', 'HTML', 'CSS', 'React']), ('course', {'name': 'Geospatial Python', 'Duration': 50})]\n"
     ]
    }
   ],
   "source": [
    "# Access elements in dict\n",
    "complete_about_me = {\n",
    "    \"name\": \"krishna G. Lodha\",\n",
    "    \"YouTube subs\" : 13000,\n",
    "    \"isTeaching\": True,\n",
    "    \"UdemyRating\" : 4.7,\n",
    "    \"Languages\" : [\"javascript\", \"Python\", \"HTML\", \"CSS\", \"React\"],\n",
    "    \"course\": {\n",
    "        \"name\" : \"Geospatial Python\",\n",
    "        \"Duration\" : 50\n",
    "    }\n",
    "}\n",
    "\n",
    "# value by key name directly\n",
    "print(complete_about_me['name'])\n",
    "\n",
    "# value by key name using get method\n",
    "print(complete_about_me.get('Languages'))\n",
    "\n",
    "# get all keys\n",
    "print(list(complete_about_me.keys()))\n",
    "\n",
    "\n",
    "# get all values\n",
    "print(list(complete_about_me.values()))\n",
    "\n",
    "# get all items as tuple\n",
    "print(list(complete_about_me.items()))\n"
   ]
  },
  {
   "cell_type": "code",
   "execution_count": 52,
   "metadata": {},
   "outputs": [
    {
     "name": "stdout",
     "output_type": "stream",
     "text": [
      "{'name': 'krishna G. Lodha', 'YouTube subs': 13000, 'isTeaching': True, 'UdemyRating': 4.8, 'Languages': ['javascript', 'Python', 'HTML', 'CSS', 'React'], 'course': {'name': 'Geospatial Python', 'Duration': 50}}\n",
      "{'name': 'krishna G. Lodha', 'YouTube subs': 13000, 'isTeaching': True, 'UdemyRating': 4.9, 'Languages': ['javascript', 'Python', 'HTML', 'CSS', 'React'], 'course': {'name': 'Geospatial Python', 'Duration': 50}}\n",
      "{'name': 'krishna G. Lodha', 'YouTube subs': 13000, 'isTeaching': True, 'UdemyRating': 4.9, 'Languages': ['javascript', 'Python', 'HTML', 'CSS', 'React'], 'course': {'name': 'Geospatial Python', 'Duration': 50}, 'freelancing': True}\n",
      "{'name': 'krishna G. Lodha', 'YouTube subs': 13000, 'UdemyRating': 4.9, 'Languages': ['javascript', 'Python', 'HTML', 'CSS', 'React'], 'course': {'name': 'Geospatial Python', 'Duration': 50}, 'freelancing': True}\n",
      "{'name': 'krishna G. Lodha', 'YouTube subs': 13000, 'UdemyRating': 4.9, 'Languages': ['javascript', 'Python', 'HTML', 'CSS', 'React'], 'course': {'name': 'Geospatial Python', 'Duration': 50}, 'freelancing': True, 'Instagram': False, 'LinkedIn': True}\n"
     ]
    }
   ],
   "source": [
    "# Update elements \n",
    "complete_about_me = {\n",
    "    \"name\": \"krishna G. Lodha\",\n",
    "    \"YouTube subs\" : 13000,\n",
    "    \"isTeaching\": True,\n",
    "    \"UdemyRating\" : 4.7,\n",
    "    \"Languages\" : [\"javascript\", \"Python\", \"HTML\", \"CSS\", \"React\"],\n",
    "    \"course\": {\n",
    "        \"name\" : \"Geospatial Python\",\n",
    "        \"Duration\" : 50\n",
    "    }\n",
    "}\n",
    "# update existing element method 1 \n",
    "complete_about_me[\"UdemyRating\"] = 4.8\n",
    "print(complete_about_me)\n",
    "\n",
    "# update existing element method 1 \n",
    "complete_about_me.update({\"UdemyRating\" : 4.9})\n",
    "print(complete_about_me)\n",
    "\n",
    "# add new element \n",
    "complete_about_me['freelancing'] = True\n",
    "print(complete_about_me)\n",
    "\n",
    "# remove any element \n",
    "complete_about_me.pop('isTeaching')\n",
    "print(complete_about_me)\n",
    "\n",
    "# Combine 2 dictionaries\n",
    "social = {\n",
    "    'Instagram': False,\n",
    "    'LinkedIn' : True\n",
    "}\n",
    "complete_about_me.update(social)\n",
    "print(complete_about_me)\n",
    "\n"
   ]
  },
  {
   "cell_type": "markdown",
   "metadata": {},
   "source": [
    "Checkout more about Dictionaries here https://www.w3schools.com/python/python_dictionaries.asp"
   ]
  }
 ],
 "metadata": {
  "interpreter": {
   "hash": "d296d52e43b4f7ad8b723527f53ca0adab2a02b060782b02315a0763fae6fbcf"
  },
  "kernelspec": {
   "display_name": "Python 3.8.8 64-bit ('geopyenv': venv)",
   "language": "python",
   "name": "python3"
  },
  "language_info": {
   "codemirror_mode": {
    "name": "ipython",
    "version": 3
   },
   "file_extension": ".py",
   "mimetype": "text/x-python",
   "name": "python",
   "nbconvert_exporter": "python",
   "pygments_lexer": "ipython3",
   "version": "3.8.8"
  },
  "orig_nbformat": 4
 },
 "nbformat": 4,
 "nbformat_minor": 2
}
