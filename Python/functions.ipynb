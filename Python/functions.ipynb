{
 "cells": [
  {
   "cell_type": "markdown",
   "metadata": {},
   "source": [
    "# Functions\n",
    "\n",
    "Using functions user can control when to execute certain piece of code "
   ]
  },
  {
   "cell_type": "code",
   "execution_count": 1,
   "metadata": {},
   "outputs": [
    {
     "name": "stdout",
     "output_type": "stream",
     "text": [
      "Hey pal!\n"
     ]
    }
   ],
   "source": [
    "# Crate basic function\n",
    "\n",
    "def shoutOut():\n",
    "    print('Hey pal!')\n",
    "\n",
    "shoutOut() # Call function"
   ]
  },
  {
   "cell_type": "code",
   "execution_count": 2,
   "metadata": {},
   "outputs": [
    {
     "name": "stdout",
     "output_type": "stream",
     "text": [
      "Hey adam pal!\n"
     ]
    }
   ],
   "source": [
    "# Crate basic function with argument\n",
    "def shoutOut(name):\n",
    "    print('Hey '+name+' pal!')\n",
    "\n",
    "shoutOut('adam') # Call function with argument"
   ]
  },
  {
   "cell_type": "code",
   "execution_count": 5,
   "metadata": {},
   "outputs": [
    {
     "name": "stdout",
     "output_type": "stream",
     "text": [
      "Hey james pal! good morning\n",
      "Hey smith pal! good evening\n"
     ]
    }
   ],
   "source": [
    "# Crate basic function with multiple argument\n",
    "def shoutOut(name, greeting):\n",
    "    print('Hey '+name+' pal! '+ greeting)\n",
    "\n",
    "shoutOut('james','good morning') # Call function with values of argument in same order\n",
    "\n",
    "shoutOut(greeting='good evening',name='smith') # Call function with values of argument specified by calling keywords"
   ]
  },
  {
   "cell_type": "code",
   "execution_count": 6,
   "metadata": {},
   "outputs": [
    {
     "name": "stdout",
     "output_type": "stream",
     "text": [
      "Hey james pal! good morning\n",
      "Hey dave pal! good afternoon\n"
     ]
    }
   ],
   "source": [
    "# Crate basic function with default values for argument\n",
    "def shoutOut(name, greeting='good afternoon'):\n",
    "    print('Hey '+name+' pal! '+ greeting)\n",
    "\n",
    "shoutOut('james','good morning') # Call function with values of argument with all values\n",
    "\n",
    "shoutOut('dave')"
   ]
  },
  {
   "cell_type": "code",
   "execution_count": 7,
   "metadata": {},
   "outputs": [
    {
     "name": "stdout",
     "output_type": "stream",
     "text": [
      "59000.0\n"
     ]
    }
   ],
   "source": [
    "# Save value of functions to variable\n",
    "\n",
    "def calculate_final_cost(cost):\n",
    "    return cost*1.18\n",
    "\n",
    "tv_cost = calculate_final_cost(50000)\n",
    "print(tv_cost)"
   ]
  },
  {
   "cell_type": "code",
   "execution_count": 9,
   "metadata": {},
   "outputs": [
    {
     "name": "stdout",
     "output_type": "stream",
     "text": [
      "1180.0\n",
      "1120.0\n"
     ]
    }
   ],
   "source": [
    "# Creating Lambda function to execute single function, it can have multiple parameters\n",
    "\n",
    "gst_cost = lambda cost : cost*(1.18)\n",
    "\n",
    "print(gst_cost(1000))\n",
    "\n",
    "custom_gst_cost = lambda cost, tax_percent : cost*((tax_percent/100)+1)\n",
    "\n",
    "print(custom_gst_cost(1000,12))"
   ]
  },
  {
   "cell_type": "code",
   "execution_count": null,
   "metadata": {},
   "outputs": [],
   "source": []
  }
 ],
 "metadata": {
  "interpreter": {
   "hash": "d296d52e43b4f7ad8b723527f53ca0adab2a02b060782b02315a0763fae6fbcf"
  },
  "kernelspec": {
   "display_name": "Python 3.8.8 64-bit ('geopyenv': venv)",
   "language": "python",
   "name": "python3"
  },
  "language_info": {
   "codemirror_mode": {
    "name": "ipython",
    "version": 3
   },
   "file_extension": ".py",
   "mimetype": "text/x-python",
   "name": "python",
   "nbconvert_exporter": "python",
   "pygments_lexer": "ipython3",
   "version": "3.8.8"
  },
  "orig_nbformat": 4
 },
 "nbformat": 4,
 "nbformat_minor": 2
}
