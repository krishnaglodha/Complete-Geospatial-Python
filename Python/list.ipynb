{
 "cells": [
  {
   "cell_type": "markdown",
   "metadata": {},
   "source": [
    "## List\n",
    "\n",
    "List is a way to create ordered and alterable form of storing multiple data together"
   ]
  },
  {
   "cell_type": "code",
   "execution_count": 24,
   "metadata": {},
   "outputs": [
    {
     "name": "stdout",
     "output_type": "stream",
     "text": [
      "[1, 2, 3, 4, 5]\n",
      "['cat', True, 3.14, -98, ['Howdy!', 'Partner', 12]]\n"
     ]
    }
   ],
   "source": [
    "# Create a list\n",
    "simple_list = [1,2,3,4,5]\n",
    "print(simple_list)\n",
    "# List can contain mix data types\n",
    "mix_list = ['cat', True, 3.14, -98, ['Howdy!', 'Partner', 12]]\n",
    "print(mix_list)"
   ]
  },
  {
   "cell_type": "code",
   "execution_count": 25,
   "metadata": {},
   "outputs": [
    {
     "name": "stdout",
     "output_type": "stream",
     "text": [
      "cat\n",
      "-98\n",
      "[True, 3.14, -98]\n",
      "['cat', True, 3.14]\n",
      "[3.14, -98, ['Howdy!', 'Partner', 12]]\n",
      "Partner\n"
     ]
    }
   ],
   "source": [
    "# Accessing elements\n",
    "mix_list = ['cat', True, 3.14, -98, ['Howdy!', 'Partner', 12]]\n",
    "\n",
    "# Getting element based on index\n",
    "first_item = mix_list[0]  # List will start with 0 index\n",
    "print(first_item)\n",
    "second_last_item = mix_list[-2] # Index will start from -1 to get data from last value \n",
    "print(second_last_item)\n",
    "\n",
    "# Getting multiple elements from list\n",
    "from_second_to_forth = mix_list[1:4] # provide index to begin with and number of element to which we need to fetch\n",
    "print(from_second_to_forth)\n",
    "\n",
    "from_start_to_third = mix_list[:3]\n",
    "print(from_start_to_third)\n",
    "\n",
    "from_Third_to_end = mix_list[2:]\n",
    "print(from_Third_to_end)\n",
    "\n",
    "# Get elements from nested list\n",
    "partner_from_list = mix_list[-1][1]\n",
    "print(partner_from_list)"
   ]
  },
  {
   "cell_type": "code",
   "execution_count": 26,
   "metadata": {},
   "outputs": [
    {
     "name": "stdout",
     "output_type": "stream",
     "text": [
      "['tom', True, 'jerry', 'ram', 3.14, -98, ['Howdy!', 'Partner', 12]]\n",
      "['tom', True, 'jerry', 'ram', 3.14, 75, ['Howdy!', 'Partner', 12]]\n",
      "['tom', True, 'jerry', 'ram', 3.14, 75, ['Howdy!', 'Partner', 12], 'spike']\n",
      "['tom', True, 'new second index val', 'jerry', 'ram', 3.14, 75, ['Howdy!', 'Partner', 12], 'spike']\n",
      "['tom', True, 'new second index val', 'jerry', 'ram', 3.14, 75, ['Howdy!', 'Partner', 12]]\n",
      "[True, 'new second index val', 'jerry', 'ram', 3.14, 75, ['Howdy!', 'Partner', 12]]\n",
      "['pikachu', 'bulbasaur', 'meow', 'squirtle', 'mustang', 'g65', 'nexon', 'xuv']\n"
     ]
    }
   ],
   "source": [
    "# Alterating list\n",
    "\n",
    "# Updating Values based on index\n",
    "mix_list = ['tom', True,'jerry','ram', 3.14, -98, ['Howdy!', 'Partner', 12]]\n",
    "print(mix_list)\n",
    "mix_list[5] = 75 # updated sixth element\n",
    "print(mix_list)\n",
    "\n",
    "# Adding element to last \n",
    "mix_list.append('spike')\n",
    "print(mix_list)\n",
    "\n",
    "# Adding element to 2nd Index\n",
    "mix_list.insert(2, 'new second index val')\n",
    "print(mix_list)\n",
    "\n",
    "# remove last elements\n",
    "mix_list.pop()\n",
    "print(mix_list)\n",
    "\n",
    "# remove 'tom' elements\n",
    "mix_list.remove('tom')\n",
    "print(mix_list)\n",
    "\n",
    "# combining multiple lists\n",
    "pokemon = ['pikachu', 'bulbasaur', 'meow', 'squirtle']\n",
    "cars = ['mustang','g65','nexon','xuv']\n",
    "pokemon.extend(cars)\n",
    "print(pokemon)\n"
   ]
  },
  {
   "cell_type": "code",
   "execution_count": 27,
   "metadata": {},
   "outputs": [
    {
     "name": "stdout",
     "output_type": "stream",
     "text": [
      "[56, 10, 41, 89.5, 89, 17, 45, 25]\n",
      "[10, 17, 25, 41, 45, 56, 89, 89.5]\n",
      "[89.5, 89, 56, 45, 41, 25, 17, 10]\n"
     ]
    }
   ],
   "source": [
    "# sort arrays\n",
    "\n",
    "marks = [25,45,17,89,89.5,41,10,56]\n",
    "\n",
    "# revserse order\n",
    "marks.reverse()\n",
    "print(marks)\n",
    "\n",
    "# ascending order\n",
    "marks.sort()\n",
    "print(marks)\n",
    "\n",
    "# descending order\n",
    "marks.sort(reverse=True)\n",
    "print(marks)\n",
    "\n"
   ]
  },
  {
   "cell_type": "markdown",
   "metadata": {},
   "source": [
    "Explore other methods associated with List https://www.w3schools.com/python/python_ref_list.asp"
   ]
  },
  {
   "cell_type": "markdown",
   "metadata": {},
   "source": [
    "### Problem statement\n",
    "1. Create a list of 5 colors\n",
    "2. Add new color at 3rd place\n",
    "3. Swap 2nd color name with new name\n",
    "4. Create a list of 4 pets\n",
    "5. Add new pet at the start\n",
    "6. combine both lists and remove third last element\n",
    "   \n",
    "   "
   ]
  }
 ],
 "metadata": {
  "interpreter": {
   "hash": "d296d52e43b4f7ad8b723527f53ca0adab2a02b060782b02315a0763fae6fbcf"
  },
  "kernelspec": {
   "display_name": "Python 3.8.8 64-bit ('geopyenv': venv)",
   "language": "python",
   "name": "python3"
  },
  "language_info": {
   "codemirror_mode": {
    "name": "ipython",
    "version": 3
   },
   "file_extension": ".py",
   "mimetype": "text/x-python",
   "name": "python",
   "nbconvert_exporter": "python",
   "pygments_lexer": "ipython3",
   "version": "3.8.8"
  },
  "orig_nbformat": 4
 },
 "nbformat": 4,
 "nbformat_minor": 2
}
