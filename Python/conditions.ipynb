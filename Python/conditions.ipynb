{
 "cells": [
  {
   "cell_type": "markdown",
   "metadata": {},
   "source": [
    "# Conditions in Python\n",
    "\n",
    "Conditions helps us write a code which will execute different functions based on specific criterion "
   ]
  },
  {
   "cell_type": "code",
   "execution_count": 1,
   "metadata": {},
   "outputs": [
    {
     "name": "stdout",
     "output_type": "stream",
     "text": [
      "Car is expensive\n"
     ]
    }
   ],
   "source": [
    "# If condition \n",
    "\n",
    "car_price = 300000\n",
    "\n",
    "if car_price > 280000:\n",
    "    # Write code that will get executed if condition is met true\n",
    "    print('Car is expensive') "
   ]
  },
  {
   "cell_type": "code",
   "execution_count": 2,
   "metadata": {},
   "outputs": [
    {
     "name": "stdout",
     "output_type": "stream",
     "text": [
      "boy\n"
     ]
    }
   ],
   "source": [
    "# Else condition in If\n",
    "\n",
    "age = 18 \n",
    "if age < 16 : \n",
    "    # Write code that will get executed if condition is met true\n",
    "    print('teen')\n",
    "else :\n",
    "    # Write code that will get executed if condition is met false\n",
    "    print('boy')"
   ]
  },
  {
   "cell_type": "code",
   "execution_count": 6,
   "metadata": {},
   "outputs": [
    {
     "name": "stdout",
     "output_type": "stream",
     "text": [
      "Grade C\n"
     ]
    }
   ],
   "source": [
    "# Adding multiple Ifs \n",
    "\n",
    "marks = 44\n",
    "\n",
    "if marks < 35 : \n",
    "    print('fail')\n",
    "elif marks < 50 :\n",
    "    print ('Grade C')\n",
    "elif marks < 65 :\n",
    "    print('Grade B')\n",
    "else:\n",
    "    print('Grade A')"
   ]
  },
  {
   "cell_type": "code",
   "execution_count": 8,
   "metadata": {},
   "outputs": [],
   "source": [
    "# To skip specific condition, use keyword pass\n",
    "\n",
    "price = 99\n",
    "\n",
    "if price < 100 :\n",
    "    pass\n",
    "elif price < 140 : \n",
    "    print('can buy')\n",
    "elif price < 160 : \n",
    "    print('buy')\n",
    "else : \n",
    "    pass\n"
   ]
  },
  {
   "cell_type": "code",
   "execution_count": 10,
   "metadata": {},
   "outputs": [
    {
     "name": "stdout",
     "output_type": "stream",
     "text": [
      "allowed to participate\n",
      "either condition is true\n"
     ]
    }
   ],
   "source": [
    "# adding Multiple conditions together\n",
    "\n",
    "# using and operator to check all conditions are true\n",
    "gender = 'female' \n",
    "age = 20\n",
    "\n",
    "if gender == 'female' and age >= 20:\n",
    "    print('allowed to participate')\n",
    "\n",
    "\n",
    "\n",
    "# using or operator to check if any of the conditions are true\n",
    "gender = 'female' \n",
    "age = 40\n",
    "\n",
    "if gender == 'female' or age <= 20:\n",
    "    print('either condition is true')\n"
   ]
  },
  {
   "cell_type": "code",
   "execution_count": 13,
   "metadata": {},
   "outputs": [],
   "source": [
    "# using is , is not \n",
    "\n",
    "a = None\n",
    "\n",
    "if a is not None : \n",
    "    print('a has a value')"
   ]
  },
  {
   "cell_type": "markdown",
   "metadata": {},
   "source": [
    "## Problem statement\n",
    "\n",
    "1. Print Income tax based on income and following slabs\n",
    "- Income less than 5,00,000 - 10 %\n",
    "- Income less that 10,00,000 - 20% on income greater than 500000\n",
    "- Income less that 20,00,000 - 30% on income greater than 1000000\n",
    "\n",
    "2. Create password checker application , where user can add input password and we check if it works \n"
   ]
  },
  {
   "cell_type": "code",
   "execution_count": null,
   "metadata": {},
   "outputs": [],
   "source": []
  }
 ],
 "metadata": {
  "interpreter": {
   "hash": "d296d52e43b4f7ad8b723527f53ca0adab2a02b060782b02315a0763fae6fbcf"
  },
  "kernelspec": {
   "display_name": "Python 3.8.8 64-bit ('geopyenv': venv)",
   "language": "python",
   "name": "python3"
  },
  "language_info": {
   "codemirror_mode": {
    "name": "ipython",
    "version": 3
   },
   "file_extension": ".py",
   "mimetype": "text/x-python",
   "name": "python",
   "nbconvert_exporter": "python",
   "pygments_lexer": "ipython3",
   "version": "3.9.7"
  },
  "orig_nbformat": 4
 },
 "nbformat": 4,
 "nbformat_minor": 2
}
